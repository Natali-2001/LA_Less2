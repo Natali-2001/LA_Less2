{
 "cells": [
  {
   "cell_type": "code",
   "execution_count": 141,
   "metadata": {},
   "outputs": [],
   "source": [
    "import numpy as np \n",
    "import matplotlib.pyplot as plt\n",
    "import scipy \n",
    "import scipy.linalg"
   ]
  },
  {
   "cell_type": "markdown",
   "metadata": {},
   "source": [
    "###  1.1 Установить, какие произведения матриц  AB  и  BA  определены, и найти размерности полученных матриц:\n",
    "\n",
    "а)  A  — матрица  4×2 ,  B  — матрица  4×2 ;\n",
    "\n",
    "б)  A  — матрица  2×5 ,  B  — матрица  5×3 ;\n",
    "\n",
    "в)  A  — матрица  8×3 ,  B  — матрица  3×8 ;\n",
    "\n",
    "г)  A  — квадратная матрица  4×4 ,  B  — квадратная матрица  4×4 .\n",
    "\n",
    "Проверим на примерах:"
   ]
  },
  {
   "cell_type": "code",
   "execution_count": 142,
   "metadata": {},
   "outputs": [
    {
     "name": "stdout",
     "output_type": "stream",
     "text": [
      "Матрица A\n",
      "[[ 1 -2]\n",
      " [ 4 -1]\n",
      " [ 1  3]\n",
      " [ 1 -2]]\n",
      "\n",
      "Матрица B\n",
      "[[ 4  1]\n",
      " [ 5 -2]\n",
      " [ 2  3]\n",
      " [ 2 -2]]\n",
      "\n"
     ]
    },
    {
     "ename": "ValueError",
     "evalue": "shapes (4,2) and (4,2) not aligned: 2 (dim 1) != 4 (dim 0)",
     "output_type": "error",
     "traceback": [
      "\u001b[1;31m---------------------------------------------------------------------------\u001b[0m",
      "\u001b[1;31mValueError\u001b[0m                                Traceback (most recent call last)",
      "\u001b[1;32m<ipython-input-142-6cb505fe285c>\u001b[0m in \u001b[0;36m<module>\u001b[1;34m\u001b[0m\n\u001b[0;32m      6\u001b[0m \u001b[0mprint\u001b[0m\u001b[1;33m(\u001b[0m\u001b[1;34mf'Матрица B\\n{B1}\\n'\u001b[0m\u001b[1;33m)\u001b[0m\u001b[1;33m\u001b[0m\u001b[1;33m\u001b[0m\u001b[0m\n\u001b[0;32m      7\u001b[0m \u001b[1;33m\u001b[0m\u001b[0m\n\u001b[1;32m----> 8\u001b[1;33m \u001b[0mprint\u001b[0m\u001b[1;33m(\u001b[0m\u001b[1;34mf'Матрица AB\\n{np.dot(A1, B1)}'\u001b[0m\u001b[1;33m)\u001b[0m\u001b[1;33m\u001b[0m\u001b[1;33m\u001b[0m\u001b[0m\n\u001b[0m",
      "\u001b[1;32m<__array_function__ internals>\u001b[0m in \u001b[0;36mdot\u001b[1;34m(*args, **kwargs)\u001b[0m\n",
      "\u001b[1;31mValueError\u001b[0m: shapes (4,2) and (4,2) not aligned: 2 (dim 1) != 4 (dim 0)"
     ]
    }
   ],
   "source": [
    "# а)\n",
    "A1 = np.array([[1, -2], [4, -1], [1, 3], [1, -2]])\n",
    "B1 = np.array([[4, 1], [5, -2], [2, 3], [2, -2]])\n",
    "\n",
    "print(f'Матрица A\\n{A1}\\n')\n",
    "print(f'Матрица B\\n{B1}\\n')\n",
    "\n",
    "print(f'Матрица AB\\n{np.dot(A1, B1)}')"
   ]
  },
  {
   "cell_type": "code",
   "execution_count": 143,
   "metadata": {},
   "outputs": [
    {
     "name": "stdout",
     "output_type": "stream",
     "text": [
      "Матрица A\n",
      "[[ 1 -2]\n",
      " [ 4 -1]\n",
      " [ 1  3]\n",
      " [ 1 -2]]\n",
      "\n",
      "Матрица B\n",
      "[[ 4  1]\n",
      " [ 5 -2]\n",
      " [ 2  3]\n",
      " [ 2 -2]]\n",
      "\n"
     ]
    },
    {
     "ename": "ValueError",
     "evalue": "shapes (4,2) and (4,2) not aligned: 2 (dim 1) != 4 (dim 0)",
     "output_type": "error",
     "traceback": [
      "\u001b[1;31m---------------------------------------------------------------------------\u001b[0m",
      "\u001b[1;31mValueError\u001b[0m                                Traceback (most recent call last)",
      "\u001b[1;32m<ipython-input-143-2fdfeaa27f48>\u001b[0m in \u001b[0;36m<module>\u001b[1;34m\u001b[0m\n\u001b[0;32m      5\u001b[0m \u001b[0mprint\u001b[0m\u001b[1;33m(\u001b[0m\u001b[1;34mf'Матрица B\\n{B1}\\n'\u001b[0m\u001b[1;33m)\u001b[0m\u001b[1;33m\u001b[0m\u001b[1;33m\u001b[0m\u001b[0m\n\u001b[0;32m      6\u001b[0m \u001b[1;33m\u001b[0m\u001b[0m\n\u001b[1;32m----> 7\u001b[1;33m \u001b[0mprint\u001b[0m\u001b[1;33m(\u001b[0m\u001b[1;34mf'Матрица BA\\n{np.dot(B1, A1)}'\u001b[0m\u001b[1;33m)\u001b[0m\u001b[1;33m\u001b[0m\u001b[1;33m\u001b[0m\u001b[0m\n\u001b[0m",
      "\u001b[1;32m<__array_function__ internals>\u001b[0m in \u001b[0;36mdot\u001b[1;34m(*args, **kwargs)\u001b[0m\n",
      "\u001b[1;31mValueError\u001b[0m: shapes (4,2) and (4,2) not aligned: 2 (dim 1) != 4 (dim 0)"
     ]
    }
   ],
   "source": [
    "A1 = np.array([[1, -2], [4, -1], [1, 3], [1, -2]])\n",
    "B1 = np.array([[4, 1], [5, -2], [2, 3], [2, -2]])\n",
    "\n",
    "print(f'Матрица A\\n{A1}\\n')\n",
    "print(f'Матрица B\\n{B1}\\n')\n",
    "\n",
    "print(f'Матрица BA\\n{np.dot(B1, A1)}')"
   ]
  },
  {
   "cell_type": "markdown",
   "metadata": {},
   "source": [
    "В обоих произведениях произведение не определено"
   ]
  },
  {
   "cell_type": "code",
   "execution_count": 144,
   "metadata": {},
   "outputs": [
    {
     "name": "stdout",
     "output_type": "stream",
     "text": [
      "Матрица A\n",
      "[[ 1 -2  4 -1  1]\n",
      " [ 1  3  1 -2 -1]]\n",
      "\n",
      "Матрица B\n",
      "[[ 4  1  0]\n",
      " [ 5 -2  1]\n",
      " [ 2  3 -2]\n",
      " [ 2 -2  3]\n",
      " [ 1 -1 -4]]\n",
      "\n",
      "Матрица AB\n",
      "[[  1  18 -17]\n",
      " [ 16   3  -1]]\n"
     ]
    },
    {
     "ename": "ValueError",
     "evalue": "shapes (5,3) and (2,5) not aligned: 3 (dim 1) != 2 (dim 0)",
     "output_type": "error",
     "traceback": [
      "\u001b[1;31m---------------------------------------------------------------------------\u001b[0m",
      "\u001b[1;31mValueError\u001b[0m                                Traceback (most recent call last)",
      "\u001b[1;32m<ipython-input-144-cbcb01042b46>\u001b[0m in \u001b[0;36m<module>\u001b[1;34m\u001b[0m\n\u001b[0;32m      7\u001b[0m \u001b[1;33m\u001b[0m\u001b[0m\n\u001b[0;32m      8\u001b[0m \u001b[0mprint\u001b[0m\u001b[1;33m(\u001b[0m\u001b[1;34mf'Матрица AB\\n{np.dot(A2, B2)}'\u001b[0m\u001b[1;33m)\u001b[0m\u001b[1;33m\u001b[0m\u001b[1;33m\u001b[0m\u001b[0m\n\u001b[1;32m----> 9\u001b[1;33m \u001b[0mprint\u001b[0m\u001b[1;33m(\u001b[0m\u001b[1;34mf'Матрица BA\\n{np.dot(B2, A2)}'\u001b[0m\u001b[1;33m)\u001b[0m\u001b[1;33m\u001b[0m\u001b[1;33m\u001b[0m\u001b[0m\n\u001b[0m",
      "\u001b[1;32m<__array_function__ internals>\u001b[0m in \u001b[0;36mdot\u001b[1;34m(*args, **kwargs)\u001b[0m\n",
      "\u001b[1;31mValueError\u001b[0m: shapes (5,3) and (2,5) not aligned: 3 (dim 1) != 2 (dim 0)"
     ]
    }
   ],
   "source": [
    "# б)\n",
    "A2 = np.array([[1, -2, 4, -1, 1], [1, 3, 1, -2, -1]])\n",
    "B2 = np.array([[4, 1, 0], [5, -2, 1], [2, 3, -2], [2, -2, 3], [1, -1, -4]])\n",
    "\n",
    "print(f'Матрица A\\n{A2}\\n')\n",
    "print(f'Матрица B\\n{B2}\\n')\n",
    "\n",
    "print(f'Матрица AB\\n{np.dot(A2, B2)}')\n",
    "print(f'Матрица BA\\n{np.dot(B2, A2)}')"
   ]
  },
  {
   "cell_type": "markdown",
   "metadata": {},
   "source": [
    "Произведение матриц АВ определено (матрица размера 2х3), произведение ВА не определено"
   ]
  },
  {
   "cell_type": "code",
   "execution_count": 145,
   "metadata": {},
   "outputs": [
    {
     "name": "stdout",
     "output_type": "stream",
     "text": [
      "Матрица A\n",
      "[[ 1 -2  4]\n",
      " [-1  1  0]\n",
      " [ 1  3  1]\n",
      " [-2 -1  1]\n",
      " [ 1 -2  4]\n",
      " [-1  1  0]\n",
      " [ 1  3  1]\n",
      " [-2 -1  1]]\n",
      "\n",
      "Матрица B\n",
      "[[ 4  1  0  5 -2  1  2  3]\n",
      " [-2  2 -2  3  1 -1 -4  0]\n",
      " [-2  2 -2  3  1 -1 -4  1]]\n",
      "\n",
      "Матрица AB\n",
      "[[  0   5  -4  11   0  -1  -6   7]\n",
      " [ -6   1  -2  -2   3  -2  -6  -3]\n",
      " [ -4   9  -8  17   2  -3 -14   4]\n",
      " [ -8  -2   0 -10   4  -2  -4  -5]\n",
      " [  0   5  -4  11   0  -1  -6   7]\n",
      " [ -6   1  -2  -2   3  -2  -6  -3]\n",
      " [ -4   9  -8  17   2  -3 -14   4]\n",
      " [ -8  -2   0 -10   4  -2  -4  -5]]\n",
      "Матрица BA\n",
      "[[-14  -4  18]\n",
      " [-14 -18  -7]\n",
      " [-16 -19  -6]]\n"
     ]
    }
   ],
   "source": [
    "# в)\n",
    "A3 = np.array([[1, -2, 4], [-1, 1, 0], [1, 3, 1], [-2, -1, 1], [1, -2, 4], [-1, 1, 0], [1, 3, 1], [-2, -1, 1]])\n",
    "B3 = np.array([[4, 1, 0, 5, -2, 1, 2, 3], [-2, 2, -2, 3, 1, -1, -4, 0], [-2, 2, -2, 3, 1, -1, -4, 1]])\n",
    "\n",
    "print(f'Матрица A\\n{A3}\\n')\n",
    "print(f'Матрица B\\n{B3}\\n')\n",
    "\n",
    "print(f'Матрица AB\\n{np.dot(A3, B3)}')\n",
    "print(f'Матрица BA\\n{np.dot(B3, A3)}')"
   ]
  },
  {
   "cell_type": "markdown",
   "metadata": {},
   "source": [
    "Произведение матриц АВ определено (матрица размера 8х8), произведение ВА определено (матрица размера 3х3)"
   ]
  },
  {
   "cell_type": "code",
   "execution_count": 146,
   "metadata": {},
   "outputs": [
    {
     "name": "stdout",
     "output_type": "stream",
     "text": [
      "Матрица A\n",
      "[[ 1 -2  4  0]\n",
      " [-1  1  0 -2]\n",
      " [ 1  3  1  0]\n",
      " [-2 -1  1  1]]\n",
      "\n",
      "Матрица B\n",
      "[[ 4  1  0  5]\n",
      " [-2  2 -2  3]\n",
      " [-2  2 -2  3]\n",
      " [-2  1 -2  3]]\n",
      "\n",
      "Матрица AB\n",
      "[[  0   5  -4  11]\n",
      " [ -2  -1   2  -8]\n",
      " [ -4   9  -8  17]\n",
      " [-10  -1  -2  -7]]\n",
      "Матрица BA\n",
      "[[ -7 -12  21   3]\n",
      " [-12  -3  -7  -1]\n",
      " [-12  -3  -7  -1]\n",
      " [-11  -4  -7   1]]\n"
     ]
    }
   ],
   "source": [
    "# г)\n",
    "A4 = np.array([[1, -2, 4, 0], [-1, 1, 0, -2], [1, 3, 1, 0], [-2, -1, 1, 1]])\n",
    "B4 = np.array([[4, 1, 0, 5], [-2, 2, -2, 3], [-2, 2, -2, 3], [-2, 1, -2, 3]])\n",
    "\n",
    "print(f'Матрица A\\n{A4}\\n')\n",
    "print(f'Матрица B\\n{B4}\\n')\n",
    "\n",
    "print(f'Матрица AB\\n{np.dot(A4, B4)}')\n",
    "print(f'Матрица BA\\n{np.dot(B4, A4)}')"
   ]
  },
  {
   "cell_type": "markdown",
   "metadata": {},
   "source": [
    "Произведение матриц АВ  и ВА определено (матрица размера 4х4)"
   ]
  },
  {
   "cell_type": "markdown",
   "metadata": {},
   "source": [
    "### 1.2. Найти сумму и произведение матриц"
   ]
  },
  {
   "cell_type": "code",
   "execution_count": 147,
   "metadata": {},
   "outputs": [
    {
     "name": "stdout",
     "output_type": "stream",
     "text": [
      "Матрица A\n",
      "[[ 1 -2]\n",
      " [ 3  0]]\n",
      "\n",
      "Матрица B\n",
      "[[ 4 -1]\n",
      " [ 0  5]]\n",
      "\n",
      "Матрица С = A + B\n",
      "[[ 5 -3]\n",
      " [ 3  5]]\n",
      "Матрица AB\n",
      "[[  4 -11]\n",
      " [ 12  -3]]\n",
      "Матрица BA\n",
      "[[ 1 -8]\n",
      " [15  0]]\n"
     ]
    }
   ],
   "source": [
    "a = np.array([[1, -2], [3, 0]])\n",
    "b = np.array([[4, -1], [0, 5]])\n",
    "\n",
    "print(f'Матрица A\\n{a}\\n')\n",
    "print(f'Матрица B\\n{b}\\n')\n",
    "print(f'Матрица С = A + B\\n{a + b}')\n",
    "print(f'Матрица AB\\n{np.dot(a, b)}')\n",
    "print(f'Матрица BA\\n{np.dot(b, a)}')"
   ]
  },
  {
   "cell_type": "markdown",
   "metadata": {},
   "source": [
    "###  1.3. Из закономерностей сложения и умножения матриц на число можно сделать вывод, что матрицы одного размера образуют линейное пространство. Вычислить линейную комбинацию  3A−2B+4C"
   ]
  },
  {
   "cell_type": "code",
   "execution_count": 148,
   "metadata": {},
   "outputs": [
    {
     "name": "stdout",
     "output_type": "stream",
     "text": [
      "Матрица A\n",
      "[[ 1  7]\n",
      " [ 3 -6]]\n",
      "\n",
      "Матрица B\n",
      "[[ 0  5]\n",
      " [ 2 -1]]\n",
      "\n",
      "Матрица A\n",
      "[[ 2 -4]\n",
      " [ 1  1]]\n",
      "\n",
      "Матрица D = 3A - 2B + 4C\n",
      "[[ 11  -5]\n",
      " [  9 -12]]\n"
     ]
    }
   ],
   "source": [
    "a1 = np.array([[1, 7], [3, -6]])\n",
    "b1 = np.array([[0, 5], [2, -1]])\n",
    "c1 = np.array([[2, -4], [1, 1]])\n",
    "\n",
    "print(f'Матрица A\\n{a1}\\n')\n",
    "print(f'Матрица B\\n{b1}\\n')\n",
    "print(f'Матрица A\\n{c1}\\n')\n",
    "\n",
    "print(f'Матрица D = 3A - 2B + 4C\\n{3*a1 - 2*b1 + 4*c1}')"
   ]
  },
  {
   "cell_type": "markdown",
   "metadata": {},
   "source": [
    "### 1.4 Вычислить "
   ]
  },
  {
   "cell_type": "code",
   "execution_count": 149,
   "metadata": {},
   "outputs": [
    {
     "name": "stdout",
     "output_type": "stream",
     "text": [
      "Матрица:\n",
      "[[ 4  1]\n",
      " [ 5 -2]\n",
      " [ 2  3]]\n",
      "Транспонированная матрица:\n",
      "[[ 4  5  2]\n",
      " [ 1 -2  3]]\n",
      "Матрица A*A_T:\n",
      "[[17 18 11]\n",
      " [18 29  4]\n",
      " [11  4 13]]\n",
      "Матрица A_T*A:\n",
      "[[45  0]\n",
      " [ 0 14]]\n"
     ]
    }
   ],
   "source": [
    "A4 = np.array([[4, 1], [5, -2], [2, 3]])\n",
    "print(f'Матрица:\\n{A4}')\n",
    "print(f'Транспонированная матрица:\\n{A4.T}')\n",
    "print(f'Матрица A*A_T:\\n{np.dot(A4,(A4.T))}')\n",
    "print(f'Матрица A_T*A:\\n{np.dot((A4.T),A4)}')"
   ]
  },
  {
   "cell_type": "markdown",
   "metadata": {},
   "source": [
    "### 1. 5*. Написать на Python функцию для перемножения двух произвольных матриц, не используя NumPy."
   ]
  },
  {
   "cell_type": "code",
   "execution_count": 150,
   "metadata": {},
   "outputs": [
    {
     "name": "stdout",
     "output_type": "stream",
     "text": [
      "[[4, -11], [12, 0]]\n"
     ]
    }
   ],
   "source": [
    "a = np.array([[1, -2], [3, 0]])\n",
    "b = np.array([[4, -1], [0, 5]])\n",
    "\n",
    "# количество строк первой матрицы\n",
    "m = len(a)                                            \n",
    "# количество строк второй матрицы = количество столбцов первой матрицы\n",
    "n = len(b)  \n",
    "# количество столбцов второй матрицы\n",
    "k = len(b[0])\n",
    "\n",
    "# нулевая матрица размера mxk\n",
    "c = [[0 for __ in range(k)] for __ in range(m)]  \n",
    "\n",
    "result = c\n",
    "for i in range(m):\n",
    "    for j in range(k):       \n",
    "        for k in range(n):\n",
    "            result[i][j] += a[i][k] * b[k][j]\n",
    "\n",
    "print(result)\n"
   ]
  },
  {
   "cell_type": "markdown",
   "metadata": {},
   "source": [
    "### 2.1.  Вычислить определитель:"
   ]
  },
  {
   "cell_type": "code",
   "execution_count": 151,
   "metadata": {},
   "outputs": [
    {
     "name": "stdout",
     "output_type": "stream",
     "text": [
      "Матрица:\n",
      "[[sin(x) -cos(x)]\n",
      " [cos(x) sin(x)]]\n"
     ]
    },
    {
     "ename": "TypeError",
     "evalue": "No loop matching the specified signature and casting was found for ufunc det",
     "output_type": "error",
     "traceback": [
      "\u001b[1;31m---------------------------------------------------------------------------\u001b[0m",
      "\u001b[1;31mTypeError\u001b[0m                                 Traceback (most recent call last)",
      "\u001b[1;32m<ipython-input-151-e2af859b01f5>\u001b[0m in \u001b[0;36m<module>\u001b[1;34m\u001b[0m\n\u001b[0;32m      3\u001b[0m \u001b[1;33m\u001b[0m\u001b[0m\n\u001b[0;32m      4\u001b[0m \u001b[0mprint\u001b[0m\u001b[1;33m(\u001b[0m\u001b[1;34mf'Матрица:\\n{A1}'\u001b[0m\u001b[1;33m)\u001b[0m\u001b[1;33m\u001b[0m\u001b[1;33m\u001b[0m\u001b[0m\n\u001b[1;32m----> 5\u001b[1;33m \u001b[0mprint\u001b[0m\u001b[1;33m(\u001b[0m\u001b[1;34mf'Определитель:\\n{np.linalg.det(A1)}'\u001b[0m\u001b[1;33m)\u001b[0m\u001b[1;33m\u001b[0m\u001b[1;33m\u001b[0m\u001b[0m\n\u001b[0m",
      "\u001b[1;32m<__array_function__ internals>\u001b[0m in \u001b[0;36mdet\u001b[1;34m(*args, **kwargs)\u001b[0m\n",
      "\u001b[1;32m~\\anaconda3\\lib\\site-packages\\numpy\\linalg\\linalg.py\u001b[0m in \u001b[0;36mdet\u001b[1;34m(a)\u001b[0m\n\u001b[0;32m   2157\u001b[0m     \u001b[0mt\u001b[0m\u001b[1;33m,\u001b[0m \u001b[0mresult_t\u001b[0m \u001b[1;33m=\u001b[0m \u001b[0m_commonType\u001b[0m\u001b[1;33m(\u001b[0m\u001b[0ma\u001b[0m\u001b[1;33m)\u001b[0m\u001b[1;33m\u001b[0m\u001b[1;33m\u001b[0m\u001b[0m\n\u001b[0;32m   2158\u001b[0m     \u001b[0msignature\u001b[0m \u001b[1;33m=\u001b[0m \u001b[1;34m'D->D'\u001b[0m \u001b[1;32mif\u001b[0m \u001b[0misComplexType\u001b[0m\u001b[1;33m(\u001b[0m\u001b[0mt\u001b[0m\u001b[1;33m)\u001b[0m \u001b[1;32melse\u001b[0m \u001b[1;34m'd->d'\u001b[0m\u001b[1;33m\u001b[0m\u001b[1;33m\u001b[0m\u001b[0m\n\u001b[1;32m-> 2159\u001b[1;33m     \u001b[0mr\u001b[0m \u001b[1;33m=\u001b[0m \u001b[0m_umath_linalg\u001b[0m\u001b[1;33m.\u001b[0m\u001b[0mdet\u001b[0m\u001b[1;33m(\u001b[0m\u001b[0ma\u001b[0m\u001b[1;33m,\u001b[0m \u001b[0msignature\u001b[0m\u001b[1;33m=\u001b[0m\u001b[0msignature\u001b[0m\u001b[1;33m)\u001b[0m\u001b[1;33m\u001b[0m\u001b[1;33m\u001b[0m\u001b[0m\n\u001b[0m\u001b[0;32m   2160\u001b[0m     \u001b[0mr\u001b[0m \u001b[1;33m=\u001b[0m \u001b[0mr\u001b[0m\u001b[1;33m.\u001b[0m\u001b[0mastype\u001b[0m\u001b[1;33m(\u001b[0m\u001b[0mresult_t\u001b[0m\u001b[1;33m,\u001b[0m \u001b[0mcopy\u001b[0m\u001b[1;33m=\u001b[0m\u001b[1;32mFalse\u001b[0m\u001b[1;33m)\u001b[0m\u001b[1;33m\u001b[0m\u001b[1;33m\u001b[0m\u001b[0m\n\u001b[0;32m   2161\u001b[0m     \u001b[1;32mreturn\u001b[0m \u001b[0mr\u001b[0m\u001b[1;33m\u001b[0m\u001b[1;33m\u001b[0m\u001b[0m\n",
      "\u001b[1;31mTypeError\u001b[0m: No loop matching the specified signature and casting was found for ufunc det"
     ]
    }
   ],
   "source": [
    "# а)\n",
    "A1 = np.array([[sin(x), -cos(x)], [cos(x), sin(x)]])\n",
    "\n",
    "print(f'Матрица:\\n{A1}')\n",
    "print(f'Определитель:\\n{np.linalg.det(A1)}')"
   ]
  },
  {
   "cell_type": "code",
   "execution_count": 152,
   "metadata": {},
   "outputs": [
    {
     "name": "stdout",
     "output_type": "stream",
     "text": [
      "Матрица:\n",
      "[[4 2 3]\n",
      " [0 5 1]\n",
      " [0 0 9]]\n",
      "Определитель:\n",
      "180.0\n"
     ]
    }
   ],
   "source": [
    "# б)\n",
    "A1 = np.array([[4, 2, 3], [0, 5, 1], [0, 0, 9]])\n",
    "\n",
    "print(f'Матрица:\\n{A1}')\n",
    "print(f'Определитель:\\n{np.linalg.det(A1)}')"
   ]
  },
  {
   "cell_type": "code",
   "execution_count": 153,
   "metadata": {},
   "outputs": [
    {
     "name": "stdout",
     "output_type": "stream",
     "text": [
      "Матрица:\n",
      "[[1 2 3]\n",
      " [4 5 6]\n",
      " [7 8 9]]\n",
      "Определитель:\n",
      "0\n"
     ]
    }
   ],
   "source": [
    "# в)\n",
    "A1 = np.array([[1, 2, 3], [4, 5, 6], [7, 8, 9]])\n",
    "\n",
    "print(f'Матрица:\\n{A1}')\n",
    "print(f'Определитель:\\n{np.linalg.det(A1):.0f}')"
   ]
  },
  {
   "cell_type": "markdown",
   "metadata": {},
   "source": [
    "### 2.3. Доказать, что матрица вырожденная"
   ]
  },
  {
   "cell_type": "code",
   "execution_count": 154,
   "metadata": {},
   "outputs": [
    {
     "name": "stdout",
     "output_type": "stream",
     "text": [
      "Матрица:\n",
      "[[1 2 3]\n",
      " [4 5 6]\n",
      " [7 8 9]]\n",
      "Определитель:\n",
      "0\n"
     ]
    }
   ],
   "source": [
    "A2 = np.array([[-2, 7, -3], [4, -14, 6], [-3, 7, 13]])\n",
    "\n",
    "print(f'Матрица:\\n{A1}')\n",
    "print(f'Определитель:\\n{np.linalg.det(A2):.0f}')"
   ]
  },
  {
   "cell_type": "markdown",
   "metadata": {},
   "source": [
    "Определитель равен 0, значит, матрица вырожденная."
   ]
  },
  {
   "cell_type": "markdown",
   "metadata": {},
   "source": [
    "###  2.4. Найти ранг матрицы:"
   ]
  },
  {
   "cell_type": "code",
   "execution_count": 155,
   "metadata": {},
   "outputs": [
    {
     "name": "stdout",
     "output_type": "stream",
     "text": [
      "Матрица:\n",
      "[[1 2 3]\n",
      " [1 1 1]\n",
      " [2 3 4]]\n",
      "Ранг матрицы: 2\n"
     ]
    }
   ],
   "source": [
    "# a)\n",
    "A = np.array([[1, 2, 3], [1, 1, 1], [2, 3, 4]])\n",
    "\n",
    "print(f'Матрица:\\n{A}')\n",
    "r = np.linalg.matrix_rank(A)\n",
    " \n",
    "print(f'Ранг матрицы: {r}')"
   ]
  },
  {
   "cell_type": "code",
   "execution_count": 156,
   "metadata": {},
   "outputs": [
    {
     "name": "stdout",
     "output_type": "stream",
     "text": [
      "Матрица:\n",
      "[[0 0 2 1]\n",
      " [0 0 2 2]\n",
      " [0 0 4 3]\n",
      " [2 3 5 6]]\n",
      "Ранг матрицы: 3\n"
     ]
    }
   ],
   "source": [
    "# б)\n",
    "A = np.array([[0, 0, 2, 1], [0, 0, 2, 2], [0, 0, 4, 3], [2, 3, 5, 6]])\n",
    "\n",
    "print(f'Матрица:\\n{A}')\n",
    "r = np.linalg.matrix_rank(A)\n",
    " \n",
    "print(f'Ранг матрицы: {r}')"
   ]
  },
  {
   "cell_type": "code",
   "execution_count": null,
   "metadata": {},
   "outputs": [],
   "source": []
  }
 ],
 "metadata": {
  "kernelspec": {
   "display_name": "Python 3",
   "language": "python",
   "name": "python3"
  },
  "language_info": {
   "codemirror_mode": {
    "name": "ipython",
    "version": 3
   },
   "file_extension": ".py",
   "mimetype": "text/x-python",
   "name": "python",
   "nbconvert_exporter": "python",
   "pygments_lexer": "ipython3",
   "version": "3.8.5"
  }
 },
 "nbformat": 4,
 "nbformat_minor": 4
}
